{
 "cells": [
  {
   "cell_type": "code",
   "execution_count": 5,
   "id": "48f9fbe5",
   "metadata": {},
   "outputs": [
    {
     "name": "stdout",
     "output_type": "stream",
     "text": [
      "30\n"
     ]
    }
   ],
   "source": [
    "#Program to add all elements in an array\n",
    "def sum_arr(n):\n",
    "    addition = 0\n",
    "    for i in range(len(n)):\n",
    "        addition = addition + n[i]\n",
    "    \n",
    "    return addition\n",
    "\n",
    "\n",
    "add = sum_arr([1,2,3,4,20])\n",
    "print (add)\n"
   ]
  },
  {
   "cell_type": "code",
   "execution_count": 11,
   "id": "91daeb6d",
   "metadata": {},
   "outputs": [
    {
     "name": "stdout",
     "output_type": "stream",
     "text": [
      "Largest number in the array is :  0\n"
     ]
    }
   ],
   "source": [
    "#Program to find the largest element in a array\n",
    "\n",
    "def largest_num(n):\n",
    "    max_num = 0\n",
    "    for i in range(len(n)):\n",
    "        if (n[i] > max_num):\n",
    "            max_num = n[i]\n",
    "    return max_num\n",
    "\n",
    "\n",
    "max_num = largest_num([-1,-2,-3,-9])\n",
    "print (\"Largest number in the array is : \" , max_num)\n"
   ]
  },
  {
   "cell_type": "code",
   "execution_count": 20,
   "id": "7e3bc0ea",
   "metadata": {},
   "outputs": [
    {
     "name": "stdout",
     "output_type": "stream",
     "text": [
      "[7, 6, 10, 9, 8]\n"
     ]
    }
   ],
   "source": [
    "#Program for Array rotation by d number of digits\n",
    "\n",
    "def swap_nums(arr , d):\n",
    "    n = len(arr)\n",
    "    d = d % n\n",
    "    \n",
    "    return (arr[d:] + arr[:d])\n",
    "\n",
    "lst = swap_nums([10,9,8,7,6], 3)\n",
    "print (lst)\n",
    "    "
   ]
  },
  {
   "cell_type": "code",
   "execution_count": 21,
   "id": "f5da3113",
   "metadata": {},
   "outputs": [
    {
     "name": "stdout",
     "output_type": "stream",
     "text": [
      "New array is :  [3, 4, 5, 1, 2]\n"
     ]
    }
   ],
   "source": [
    "#Program to Split the array and add the first part to the end\n",
    "\n",
    "def split_arr(arr, d):\n",
    "    \n",
    "    return arr[2:] + arr[:2]\n",
    "\n",
    "arr_new = split_arr([1,2,3,4,5] , 2)\n",
    "print (\"New array is : \" , arr_new)"
   ]
  },
  {
   "cell_type": "code",
   "execution_count": 28,
   "id": "c983e4e7",
   "metadata": {},
   "outputs": [
    {
     "name": "stdout",
     "output_type": "stream",
     "text": [
      "Multiplication of the array is :  61250000\n",
      "Remainder is :  9\n"
     ]
    }
   ],
   "source": [
    "# Python Program for Find remainder of array multiplication divided by n\n",
    "\n",
    "def remainder(arr , n):\n",
    "    mul = 1\n",
    "    for i in range(len(arr)):\n",
    "        mul = mul * arr[i] \n",
    "    print (\"Multiplication of the array is : \", mul)\n",
    "    return (mul % n)\n",
    "\n",
    "rem = remainder([100, 10, 5, 25, 35, 14] , 11)\n",
    "print (\"Remainder is : \", rem)"
   ]
  },
  {
   "cell_type": "code",
   "execution_count": 37,
   "id": "8c071fb2",
   "metadata": {},
   "outputs": [
    {
     "name": "stdout",
     "output_type": "stream",
     "text": [
      "Monotonic increasing\n",
      "Monotonic increasing\n",
      "Monotonic increasing\n"
     ]
    },
    {
     "ename": "IndexError",
     "evalue": "list index out of range",
     "output_type": "error",
     "traceback": [
      "\u001b[1;31m---------------------------------------------------------------------------\u001b[0m",
      "\u001b[1;31mIndexError\u001b[0m                                Traceback (most recent call last)",
      "Cell \u001b[1;32mIn[37], line 16\u001b[0m\n\u001b[0;32m     13\u001b[0m         \u001b[38;5;28;01melse\u001b[39;00m:\n\u001b[0;32m     14\u001b[0m             \u001b[38;5;28mprint\u001b[39m (\u001b[38;5;124m\"\u001b[39m\u001b[38;5;124mNone\u001b[39m\u001b[38;5;124m\"\u001b[39m)\n\u001b[1;32m---> 16\u001b[0m check_monotonic([\u001b[38;5;241m1\u001b[39m,\u001b[38;5;241m2\u001b[39m,\u001b[38;5;241m3\u001b[39m,\u001b[38;5;241m4\u001b[39m])\n",
      "Cell \u001b[1;32mIn[37], line 8\u001b[0m, in \u001b[0;36mcheck_monotonic\u001b[1;34m(arr)\u001b[0m\n\u001b[0;32m      6\u001b[0m j \u001b[38;5;241m=\u001b[39m i \u001b[38;5;241m+\u001b[39m \u001b[38;5;241m1\u001b[39m\n\u001b[0;32m      7\u001b[0m \u001b[38;5;28;01mwhile\u001b[39;00m n \u001b[38;5;241m>\u001b[39m\u001b[38;5;241m=\u001b[39m \u001b[38;5;241m0\u001b[39m:\n\u001b[1;32m----> 8\u001b[0m     \u001b[38;5;28;01mif\u001b[39;00m (arr[i] \u001b[38;5;241m<\u001b[39m arr[j]):\n\u001b[0;32m      9\u001b[0m         i \u001b[38;5;241m=\u001b[39m i \u001b[38;5;241m+\u001b[39m \u001b[38;5;241m1\u001b[39m\n\u001b[0;32m     10\u001b[0m         j \u001b[38;5;241m=\u001b[39m j \u001b[38;5;241m+\u001b[39m \u001b[38;5;241m1\u001b[39m\n",
      "\u001b[1;31mIndexError\u001b[0m: list index out of range"
     ]
    }
   ],
   "source": [
    "#Python Program to check if given array is Monotonic\n",
    "\n"
   ]
  },
  {
   "cell_type": "code",
   "execution_count": null,
   "id": "536f6b47",
   "metadata": {},
   "outputs": [],
   "source": []
  }
 ],
 "metadata": {
  "kernelspec": {
   "display_name": "Python 3 (ipykernel)",
   "language": "python",
   "name": "python3"
  },
  "language_info": {
   "codemirror_mode": {
    "name": "ipython",
    "version": 3
   },
   "file_extension": ".py",
   "mimetype": "text/x-python",
   "name": "python",
   "nbconvert_exporter": "python",
   "pygments_lexer": "ipython3",
   "version": "3.11.5"
  }
 },
 "nbformat": 4,
 "nbformat_minor": 5
}
